{
 "cells": [
  {
   "cell_type": "code",
   "execution_count": 324,
   "metadata": {},
   "outputs": [],
   "source": [
    "import matplotlib.pyplot as plt\n",
    "import numpy as np\n",
    "from scipy.stats import truncnorm\n",
    "\n",
    "import torch\n",
    "from torchvision import datasets, transforms\n"
   ]
  },
  {
   "cell_type": "code",
   "execution_count": 287,
   "metadata": {},
   "outputs": [],
   "source": [
    "def type_it(check):\n",
    "    print(type(check))\n",
    "    if isinstance(check, torch.Tensor):\n",
    "        print(check.size())\n",
    "    return\n",
    "\n",
    "def plot_detail_color(image_tensor):\n",
    "    image_np = image_tensor.permute(1, 2, 0).numpy()\n",
    "    plt.figure(figsize=(1, 1))\n",
    "    plt.imshow(image_np, cmap='gray')\n",
    "    plt.show()\n",
    "\n",
    "def plot_detail(image_tensor):\n",
    "    plt.figure(figsize=(1, 1))\n",
    "    plt.imshow(image_tensor, cmap='gray')\n",
    "    plt.show()"
   ]
  },
  {
   "cell_type": "code",
   "execution_count": 288,
   "metadata": {},
   "outputs": [],
   "source": [
    "def rotate_dataset(\n",
    "        datasets: torch.Tensor,\n",
    "        degree: int = 90\n",
    "    ) -> torch.Tensor:\n",
    "    '''\n",
    "    Rotates all images in the dataset by a specified degree.\n",
    "\n",
    "    Args:\n",
    "        datasets (torch.Tensor): Input dataset, a tensor of shape (N, (), H, W) where N is the number of images.\n",
    "        rotation (int) : Degrees to rotate each image.\n",
    "\n",
    "    Returns:\n",
    "        torch.Tensor: The rotated dataset, a tensor of the same shape (N, (), H, W) as the input.\n",
    "    '''\n",
    "    rotated_images = []\n",
    "    \n",
    "    for img_tensor in datasets:\n",
    "        # Convert the tensor to a PIL image\n",
    "        img = transforms.ToPILImage()(img_tensor)\n",
    "        \n",
    "        # Rotate the image\n",
    "        rotated_img = img.rotate(degree)\n",
    "        \n",
    "        # Convert the PIL image back to a tensor\n",
    "        rotated_img_tensor = transforms.ToTensor()(rotated_img).squeeze(0)\n",
    "        \n",
    "        rotated_images.append(rotated_img_tensor)\n",
    "    \n",
    "    # Stack all tensors into a single tensor\n",
    "    rotated_dataset = torch.stack(rotated_images)\n",
    "    \n",
    "    return rotated_dataset"
   ]
  },
  {
   "cell_type": "code",
   "execution_count": 303,
   "metadata": {},
   "outputs": [],
   "source": [
    "def color_dataset(\n",
    "        dataset: torch.Tensor,\n",
    "        color: str = 'red'\n",
    "    ) -> torch.Tensor:\n",
    "    '''\n",
    "    Colors all images in the dataset by a specified color.\n",
    "\n",
    "    Args:\n",
    "        dataset (torch.Tensor): Input dataset, a tensor of shape (N, H, W) or (N, 3, H, W)\n",
    "                                where N is the number of images.\n",
    "        color (str) : 'red', 'green', 'blue'.\n",
    "\n",
    "\n",
    "    Warning:\n",
    "        MNIST, FMNIST, EMNIST are 1-channel. CIFAR10, CIFAR100 are 3-channel.\n",
    "\n",
    "    Returns:\n",
    "        torch.Tensor: The colored dataset, a tensor of the shape (N, 3, H, W) with 3 channels.\n",
    "    '''\n",
    "\n",
    "    if dataset.dim() == 3:\n",
    "        # Handle 1-channel dataset\n",
    "        colored_datasets = dataset.unsqueeze(1).repeat(1, 3, 1, 1) # Shape becomes (N, 3, H, W)\n",
    "    elif dataset.dim() == 4 and dataset.size(1) == 3:\n",
    "        colored_datasets = dataset\n",
    "    else:\n",
    "        raise ValueError(\"This function only supports 1-channel (N, H, W) or 3-channel (N, 3, H, W) datasets.\")\n",
    "\n",
    "    # Map the grayscale values to the specified color\n",
    "    if color == 'red':\n",
    "        colored_datasets[:, 0, :, :] = 1  # Set the red channel for the digits\n",
    "    elif color == 'green':\n",
    "        colored_datasets[:, 1, :, :] = 1  # Set the green channel for the digits\n",
    "    elif color == 'blue':\n",
    "        colored_datasets[:, 2, :, :] = 1  # Set the blue channel for the digits\n",
    "    else:\n",
    "        raise ValueError(\"Color must be 'red', 'green', or 'blue'\")\n",
    "\n",
    "    return colored_datasets"
   ]
  },
  {
   "cell_type": "code",
   "execution_count": 290,
   "metadata": {},
   "outputs": [],
   "source": [
    "def load_full_datasets(\n",
    "        dataset_name: str = \"MNIST\",\n",
    "    ) -> list:\n",
    "    '''\n",
    "    Load datasets into four separate parts: train labels, train images, test labels, test images.\n",
    "\n",
    "    Args:\n",
    "        dataset_name (str): Name of the dataset to load. Options are \n",
    "        \"MNIST\", \"FMNIST\", \"EMNIST\", \"CIFAR10\", \"CIFAR100\".\n",
    "\n",
    "    TODO: EMNIST IS NOT WELL.\n",
    "\n",
    "    Returns:\n",
    "        list: [4].\n",
    "    '''\n",
    "    transform = transforms.Compose([\n",
    "        transforms.ToTensor(),\n",
    "    ])\n",
    "    \n",
    "    if dataset_name == \"MNIST\":\n",
    "        train_dataset = datasets.MNIST(root='./data', train=True, download=True, transform=transform)\n",
    "        test_dataset = datasets.MNIST(root='./data', train=False, download=True, transform=transform)\n",
    "    elif dataset_name == \"FMNIST\":\n",
    "        train_dataset = datasets.FashionMNIST(root='./data', train=True, download=True, transform=transform)\n",
    "        test_dataset = datasets.FashionMNIST(root='./data', train=False, download=True, transform=transform)\n",
    "    elif dataset_name == \"EMNIST\": # byclass, bymerge, balanced, letters, digits\n",
    "        train_dataset = datasets.EMNIST(root='./data', split='letters', train=True, download=True, \n",
    "                                            transform=torchvision.transforms.Compose([ \n",
    "                                            lambda img: torchvision.transforms.functional.rotate(img, -90), \n",
    "                                            lambda img: torchvision.transforms.functional.hflip(img), \n",
    "                                            torchvision.transforms.ToTensor()\n",
    "                                            ])\n",
    "                                        )               \n",
    "        test_dataset = datasets.EMNIST(root='./data', split='letters', train=False, download=True,\n",
    "                                                    transform=torchvision.transforms.Compose([ \n",
    "                                            lambda img: torchvision.transforms.functional.rotate(img, -90), \n",
    "                                            lambda img: torchvision.transforms.functional.hflip(img), \n",
    "                                            torchvision.transforms.ToTensor()\n",
    "                                            ])\n",
    "                                        )         \n",
    "    elif dataset_name == \"CIFAR10\":\n",
    "        train_dataset = datasets.CIFAR10(root='./data', train=True, download=True, transform=transform)\n",
    "        test_dataset = datasets.CIFAR10(root='./data', train=False, download=True, transform=transform)\n",
    "    elif dataset_name == \"CIFAR100\":\n",
    "        train_dataset = datasets.CIFAR100(root='./data', train=True, download=True, transform=transform)\n",
    "        test_dataset = datasets.CIFAR100(root='./data', train=False, download=True, transform=transform)\n",
    "    else:\n",
    "        raise ValueError(f\"Dataset {dataset_name} is not supported.\")\n",
    "\n",
    "    # Extracting train and test images and labels\n",
    "    train_images = torch.stack([data[0] for data in train_dataset]).squeeze(1)\n",
    "    test_images = torch.stack([data[0] for data in test_dataset]).squeeze(1)\n",
    "    \n",
    "    if dataset_name in [\"CIFAR10\", \"CIFAR100\"]:\n",
    "        train_labels = torch.tensor(train_dataset.targets).clone().detach()\n",
    "        test_labels = torch.tensor(test_dataset.targets).clone().detach()\n",
    "    else:\n",
    "        train_labels = train_dataset.targets.clone().detach()\n",
    "        test_labels = test_dataset.targets.clone().detach()\n",
    "\n",
    "    return [train_images, train_labels, test_images, test_labels]"
   ]
  },
  {
   "cell_type": "code",
   "execution_count": 291,
   "metadata": {},
   "outputs": [],
   "source": [
    "def split_basic(\n",
    "    features: torch.Tensor,\n",
    "    labels: torch.Tensor,\n",
    "    client_number: int = 10,\n",
    "    permute: bool = True\n",
    ") -> list:\n",
    "    \"\"\"\n",
    "    Splits a dataset into a specified number of clusters (clients).\n",
    "    \n",
    "    Args:\n",
    "        features (torch.Tensor): The dataset features.\n",
    "        labels (torch.Tensor): The dataset labels.\n",
    "        client_number (int): The number of clients to split the data into.\n",
    "        permute (bool): Whether to shuffle the dataset before splitting.\n",
    "\n",
    "    Returns:\n",
    "        list: A list of dictionaries where each dictionary contains the features and labels for each client.\n",
    "    \"\"\"\n",
    "\n",
    "    # Ensure the features and labels have the same number of samples\n",
    "    assert len(features) == len(labels), \"The number of samples in features and labels must be the same.\"\n",
    "\n",
    "    # Randomly shuffle the dataset while maintaining correspondence between features and labels\n",
    "    if permute:\n",
    "        indices = torch.randperm(len(features))\n",
    "        features = features[indices]\n",
    "        labels = labels[indices]\n",
    "    \n",
    "    # Calculate the number of samples per client\n",
    "    samples_per_client = len(features) // client_number\n",
    "    \n",
    "    # List to hold the data for each client\n",
    "    client_data = []\n",
    "    \n",
    "    for i in range(client_number):\n",
    "        start_idx = i * samples_per_client\n",
    "        end_idx = start_idx + samples_per_client\n",
    "        \n",
    "        # Handle the last client which may take the remaining samples\n",
    "        if i == client_number - 1:\n",
    "            end_idx = len(features)\n",
    "        \n",
    "        client_features = features[start_idx:end_idx]\n",
    "        client_labels = labels[start_idx:end_idx]\n",
    "        \n",
    "        client_data.append({\n",
    "            'features': client_features,\n",
    "            'labels': client_labels\n",
    "        })\n",
    "    \n",
    "    return client_data"
   ]
  },
  {
   "cell_type": "code",
   "execution_count": 325,
   "metadata": {},
   "outputs": [],
   "source": [
    "def split_unbalanced(\n",
    "    features: torch.Tensor,\n",
    "    labels: torch.Tensor,\n",
    "    client_number: int = 10,\n",
    "    std_dev: float = 0.1,\n",
    "    permute: bool = True\n",
    ") -> list:\n",
    "    \"\"\"\n",
    "    Splits a dataset into a specified number of clusters (clients).\n",
    "    \n",
    "    Args:\n",
    "        features (torch.Tensor): The dataset features.\n",
    "        labels (torch.Tensor): The dataset labels.\n",
    "        client_number (int): The number of clients to split the data into.\n",
    "        std_dev (float): standard deviation of the normal distribution for the number of samples per client.\n",
    "        permute (bool): Whether to shuffle the dataset before splitting.\n",
    "        \n",
    "    Returns:\n",
    "        list: A list of dictionaries where each dictionary contains the features and labels for each client.\n",
    "    \"\"\"\n",
    "\n",
    "    # Ensure the features and labels have the same number of samples\n",
    "    assert len(features) == len(labels), \"The number of samples in features and labels must be the same.\"\n",
    "    assert std_dev > 0, \"Standard deviation must be larger than 0.\"\n",
    "\n",
    "    # Generate random percentage from a truncated normal distribution\n",
    "    percentage = truncnorm.rvs(-0.5/std_dev, 0.5/std_dev, loc=0.5, scale=std_dev, size=client_number)\n",
    "    normalized_percentage = percentage / np.sum(percentage)\n",
    "\n",
    "    # Randomly shuffle the dataset while maintaining correspondence between features and labels\n",
    "    if permute:\n",
    "        indices = torch.randperm(len(features))\n",
    "        features = features[indices]\n",
    "        labels = labels[indices]\n",
    "\n",
    "    # Calculate the number of samples per client based on the normalized samples\n",
    "    total_samples = len(features)\n",
    "    samples_per_client = (normalized_percentage * total_samples).astype(int)\n",
    "\n",
    "    # Adjust to ensure the sum of samples_per_client equals the total_samples\n",
    "    difference = total_samples - samples_per_client.sum()\n",
    "    for i in range(abs(difference)):\n",
    "        samples_per_client[i % client_number] += np.sign(difference)\n",
    "    \n",
    "    # List to hold the data for each client\n",
    "    client_data = []\n",
    "    start_idx = 0\n",
    "    \n",
    "    for i in range(client_number):\n",
    "        end_idx = start_idx + samples_per_client[i]\n",
    "        \n",
    "        client_features = features[start_idx:end_idx]\n",
    "        client_labels = labels[start_idx:end_idx]\n",
    "        \n",
    "        client_data.append({\n",
    "            'features': client_features,\n",
    "            'labels': client_labels\n",
    "        })\n",
    "        \n",
    "        start_idx = end_idx\n",
    "    \n",
    "    return client_data"
   ]
  },
  {
   "cell_type": "code",
   "execution_count": 323,
   "metadata": {},
   "outputs": [
    {
     "name": "stdout",
     "output_type": "stream",
     "text": [
      "[0.2743404  0.38982251 0.08709914 0.0914612  0.15727675]\n"
     ]
    }
   ],
   "source": [
    "import numpy as np\n",
    "import matplotlib.pyplot as plt\n",
    "\n"
   ]
  },
  {
   "cell_type": "code",
   "execution_count": 300,
   "metadata": {},
   "outputs": [
    {
     "name": "stdout",
     "output_type": "stream",
     "text": [
      "<class 'torch.Tensor'>\n",
      "torch.Size([60000, 28, 28])\n",
      "<class 'torch.Tensor'>\n",
      "torch.Size([60000])\n",
      "<class 'torch.Tensor'>\n",
      "torch.Size([10000, 28, 28])\n",
      "<class 'torch.Tensor'>\n",
      "torch.Size([10000])\n"
     ]
    }
   ],
   "source": [
    "# Example usage\n",
    "train_images, train_labels, test_images, test_labels = load_full_datasets(dataset_name = \"MNIST\")\n",
    "type_it(train_images)\n",
    "type_it(train_labels)\n",
    "type_it(test_images)\n",
    "type_it(test_labels)\n"
   ]
  },
  {
   "cell_type": "code",
   "execution_count": 293,
   "metadata": {},
   "outputs": [
    {
     "name": "stdout",
     "output_type": "stream",
     "text": [
      "tensor([[[0., 0., 0.,  ..., 0., 0., 0.],\n",
      "         [0., 0., 0.,  ..., 0., 0., 0.],\n",
      "         [0., 0., 0.,  ..., 0., 0., 0.],\n",
      "         ...,\n",
      "         [0., 0., 0.,  ..., 0., 0., 0.],\n",
      "         [0., 0., 0.,  ..., 0., 0., 0.],\n",
      "         [0., 0., 0.,  ..., 0., 0., 0.]],\n",
      "\n",
      "        [[0., 0., 0.,  ..., 0., 0., 0.],\n",
      "         [0., 0., 0.,  ..., 0., 0., 0.],\n",
      "         [0., 0., 0.,  ..., 0., 0., 0.],\n",
      "         ...,\n",
      "         [0., 0., 0.,  ..., 0., 0., 0.],\n",
      "         [0., 0., 0.,  ..., 0., 0., 0.],\n",
      "         [0., 0., 0.,  ..., 0., 0., 0.]],\n",
      "\n",
      "        [[0., 0., 0.,  ..., 0., 0., 0.],\n",
      "         [0., 0., 0.,  ..., 0., 0., 0.],\n",
      "         [0., 0., 0.,  ..., 0., 0., 0.],\n",
      "         ...,\n",
      "         [0., 0., 0.,  ..., 0., 0., 0.],\n",
      "         [0., 0., 0.,  ..., 0., 0., 0.],\n",
      "         [0., 0., 0.,  ..., 0., 0., 0.]]])\n"
     ]
    }
   ],
   "source": [
    "ds = train_images[100:122]\n",
    "ds = ds.unsqueeze(1)  # Shape becomes (N, 1, H, W)\n",
    "colored_datasets = ds.expand(-1, 3, -1, -1)\n",
    "print(colored_datasets[1])\n"
   ]
  },
  {
   "cell_type": "code",
   "execution_count": 387,
   "metadata": {},
   "outputs": [
    {
     "data": {
      "image/png": "[encoded data removed]",
      "text/plain": [
       "<Figure size 100x100 with 1 Axes>"
      ]
     },
     "metadata": {},
     "output_type": "display_data"
    },
    {
     "name": "stdout",
     "output_type": "stream",
     "text": [
      "<class 'torch.Tensor'>\n",
      "torch.Size([12, 28, 28])\n",
      "<class 'torch.Tensor'>\n",
      "torch.Size([12, 28, 28])\n"
     ]
    },
    {
     "data": {
      "image/png": "[encoded data removed]",
      "text/plain": [
       "<Figure size 100x100 with 1 Axes>"
      ]
     },
     "metadata": {},
     "output_type": "display_data"
    },
    {
     "name": "stdout",
     "output_type": "stream",
     "text": [
      "<class 'torch.Tensor'>\n",
      "torch.Size([12, 3, 28, 28])\n"
     ]
    },
    {
     "data": {
      "image/png": "[encoded data removed]",
      "text/plain": [
       "<Figure size 100x100 with 1 Axes>"
      ]
     },
     "metadata": {},
     "output_type": "display_data"
    }
   ],
   "source": [
    "# for i in range(1000):\n",
    "#     if train_labels[i].item() == 24:\n",
    "#         plot_detail(train_images[i])\n",
    "#         break\n",
    "\n",
    "plot_detail(train_images[110])\n",
    "\n",
    "\n",
    "temp = train_images[110:122]\n",
    "type_it(temp)\n",
    "temp2 = rotate_dataset(temp,90.5)\n",
    "type_it(temp2)\n",
    "plot_detail(temp2[0])\n",
    "temp3 = color_dataset(temp2, 'red')\n",
    "type_it(temp3)\n",
    "plot_detail_color(temp3[0])\n",
    "\n"
   ]
  },
  {
   "cell_type": "code",
   "execution_count": 242,
   "metadata": {},
   "outputs": [],
   "source": [
    "split10 = split_basic(train_images, train_labels)\n",
    "split15 = split_basic(train_images, train_labels, 15)\n"
   ]
  },
  {
   "cell_type": "code",
   "execution_count": 308,
   "metadata": {},
   "outputs": [
    {
     "name": "stdout",
     "output_type": "stream",
     "text": [
      "<class 'torch.Tensor'>\n",
      "torch.Size([6000, 28, 28])\n",
      "<class 'torch.Tensor'>\n",
      "torch.Size([6000])\n"
     ]
    },
    {
     "data": {
      "image/png": "[encoded data removed]",
      "text/plain": [
       "<Figure size 100x100 with 1 Axes>"
      ]
     },
     "metadata": {},
     "output_type": "display_data"
    },
    {
     "name": "stdout",
     "output_type": "stream",
     "text": [
      "3\n"
     ]
    }
   ],
   "source": [
    "type_it(split10[2]['features'])\n",
    "type_it(split10[2]['labels'])\n",
    "\n",
    "plot_detail(split10[8]['features'][43])\n",
    "print(split10[8]['labels'][43].item())"
   ]
  },
  {
   "cell_type": "code",
   "execution_count": 231,
   "metadata": {},
   "outputs": [],
   "source": [
    "def visualize_label_counts(client_data: list):\n",
    "    \"\"\"\n",
    "    Visualizes the count of labels in each client's dataset.\n",
    "    \n",
    "    Args:\n",
    "        client_data (list): A list of dictionaries where each dictionary contains the features and labels for each client.\n",
    "    \"\"\"\n",
    "    num_clients = len(client_data)\n",
    "    \n",
    "    # Create a figure with subplots\n",
    "    fig, axes = plt.subplots(num_clients, 1, figsize=(5, num_clients), constrained_layout=True)\n",
    "    \n",
    "    if num_clients == 1:\n",
    "        axes = [axes]\n",
    "    \n",
    "    for i, client in enumerate(client_data):\n",
    "        labels = client['labels']\n",
    "        \n",
    "        # Count the occurrences of each label\n",
    "        label_counts = torch.bincount(labels).numpy()\n",
    "        \n",
    "        # Generate a bar plot for the label counts\n",
    "        axes[i].bar(range(len(label_counts)), label_counts)\n",
    "        axes[i].set_title(f'Client {i + 1} Label Distribution')\n",
    "        axes[i].set_xlabel('Label')\n",
    "        axes[i].set_ylabel('Count')\n",
    "        axes[i].set_xticks(range(len(label_counts)))\n",
    "    \n",
    "    plt.show()"
   ]
  },
  {
   "cell_type": "code",
   "execution_count": 334,
   "metadata": {},
   "outputs": [
    {
     "name": "stdout",
     "output_type": "stream",
     "text": [
      "60000\n",
      "torch.Size([8848, 28, 28])\n",
      "torch.Size([7278, 28, 28])\n",
      "torch.Size([4650, 28, 28])\n",
      "torch.Size([5028, 28, 28])\n",
      "torch.Size([9259, 28, 28])\n",
      "torch.Size([6206, 28, 28])\n",
      "torch.Size([3359, 28, 28])\n",
      "torch.Size([4228, 28, 28])\n",
      "torch.Size([5646, 28, 28])\n",
      "torch.Size([5498, 28, 28])\n"
     ]
    },
    {
     "data": {
      "image/png": "[encoded data removed]",
      "text/plain": [
       "<Figure size 500x1000 with 10 Axes>"
      ]
     },
     "metadata": {},
     "output_type": "display_data"
    }
   ],
   "source": [
    "\n",
    "# Split dataset into 10 clients\n",
    "client_data = split_unbalanced(train_images, train_labels, client_number=10, std_dev=2)\n",
    "print(sum([len(client['features']) for client in client_data]))\n",
    "for i in range(10):\n",
    "    print(client_data[i]['features'].size())\n",
    "# Visualize the label counts for each client\n",
    "visualize_label_counts(client_data)"
   ]
  },
  {
   "cell_type": "code",
   "execution_count": 416,
   "metadata": {},
   "outputs": [],
   "source": [
    "def assigning_rotation_features(\n",
    "    datapoint_number: int,\n",
    "    rotations: int = 4,\n",
    "    scaling: float = 0.1,\n",
    "    random_order: bool = True\n",
    ") -> list:\n",
    "    '''\n",
    "    Assigns a rotation to each datapoint based on a softmax distribution.\n",
    "\n",
    "    Args:\n",
    "        datapoint_number (int): The number of datapoints to assign rotations to.\n",
    "        rotations (int): The number of possible rotations. Recommended to be [2,4].\n",
    "        scaling (float): The scaling factor for the softmax distribution.\n",
    "        random_order (bool): Whether to shuffle the order of the rotations.\n",
    "    '''\n",
    "    assert 0 <= scaling <= 1, \"k must be between 0 and 1.\"\n",
    "    assert rotations > 1, \"Must have at least 2 rotations.\"\n",
    "\n",
    "    # Scale the values based on k\n",
    "    values = np.arange(rotations, 0, -1)  # From N to 1\n",
    "    scaled_values = values * scaling\n",
    "    \n",
    "    # Apply softmax to get the probabilities\n",
    "    exp_values = np.exp(scaled_values)\n",
    "    probabilities = exp_values / np.sum(exp_values)\n",
    "\n",
    "    angles = [i * 360 / rotations for i in range(rotations)]\n",
    "    if random_order:\n",
    "        np.random.shuffle(angles)\n",
    "\n",
    "    angles_assigned = np.random.choice(angles, size=datapoint_number, p=probabilities)\n",
    "\n",
    "    return angles_assigned"
   ]
  },
  {
   "cell_type": "code",
   "execution_count": null,
   "metadata": {},
   "outputs": [],
   "source": []
  },
  {
   "cell_type": "code",
   "execution_count": 423,
   "metadata": {},
   "outputs": [
    {
     "name": "stdout",
     "output_type": "stream",
     "text": [
      "[180. 180. 180. 180. 180. 180. 180. 270. 180. 180. 180. 270. 180. 180.\n",
      " 270.   0. 180. 180. 270. 180. 180. 180. 270. 180. 180. 180. 270. 180.\n",
      "  90. 270. 180. 180. 270. 270. 270. 180.  90. 180. 270. 180.   0. 180.\n",
      " 180. 180. 180. 180. 180. 180. 180. 180. 180. 180. 180. 180. 270. 180.\n",
      " 180. 180. 180. 270.   0. 180. 270. 270. 180. 180. 180. 180. 270. 180.\n",
      " 270. 180. 270. 270. 180. 180. 180.   0. 180. 270. 180. 180. 180. 180.\n",
      " 180.   0. 180. 270. 180. 270.   0. 180. 180. 180. 270. 180. 180. 180.\n",
      " 270. 180.]\n",
      "24\n"
     ]
    }
   ],
   "source": [
    "temp_dp = assigning_rotation_features(100, rotations = 4, scaling = 1)\n",
    "print(temp_dp)\n",
    "count = 0\n",
    "for i in range(100):\n",
    "    if temp_dp[i] == 270:\n",
    "        count += 1\n",
    "print(count)"
   ]
  },
  {
   "cell_type": "code",
   "execution_count": 415,
   "metadata": {},
   "outputs": [],
   "source": [
    "def assigning_color_features(\n",
    "    datapoint_number: int,\n",
    "    colors: int = 3,\n",
    "    scaling: float = 0.1,\n",
    "    random_order: bool = True\n",
    ") -> list:\n",
    "    '''\n",
    "    Assigns colors to the datapoints based on the softmax probabilities.\n",
    "\n",
    "    Args:\n",
    "        datapoint_number (int): Number of datapoints to assign colors to.\n",
    "        colors (int): Number of colors to assign. Must be 2 or 3.\n",
    "        scaling (float): Scaling factor for the softmax probabilities.\n",
    "    '''\n",
    "\n",
    "    assert 0 <= scaling <= 1, \"k must be between 0 and 1.\"\n",
    "    assert colors == 2 or colors == 3, \"Color must be 2 or 3.\"\n",
    "    \n",
    "    # Scale the values based on k\n",
    "    values = np.arange(colors, 0, -1)  # From N to 1\n",
    "    scaled_values = values * scaling\n",
    "    \n",
    "    # Apply softmax to get the probabilities\n",
    "    exp_values = np.exp(scaled_values)\n",
    "    probabilities = exp_values / np.sum(exp_values)\n",
    "\n",
    "    if colors == 2:\n",
    "        letters = ['red', 'blue']\n",
    "    else:\n",
    "        letters = ['red', 'blue', 'green']\n",
    "\n",
    "    if random_order:\n",
    "        np.random.shuffle(letters)\n",
    "\n",
    "    colors_assigned = np.random.choice(letters, size=datapoint_number, p=probabilities)\n",
    "\n",
    "    return colors_assigned"
   ]
  },
  {
   "cell_type": "code",
   "execution_count": 403,
   "metadata": {},
   "outputs": [
    {
     "name": "stdout",
     "output_type": "stream",
     "text": [
      "['red' 'red' 'red' 'red' 'blue' 'red' 'blue' 'red' 'red' 'red' 'red' 'red'\n",
      " 'red' 'red' 'green' 'red' 'blue' 'red' 'red' 'red' 'green' 'blue' 'red'\n",
      " 'red' 'blue' 'red' 'red' 'green' 'blue' 'red' 'green' 'red' 'red' 'red'\n",
      " 'red' 'red' 'red' 'blue' 'blue' 'green' 'blue' 'red' 'red' 'red' 'red'\n",
      " 'blue' 'red' 'red' 'red' 'blue' 'red' 'blue' 'blue' 'red' 'blue' 'blue'\n",
      " 'blue' 'red' 'blue' 'red' 'blue' 'red' 'red' 'blue' 'red' 'red' 'red'\n",
      " 'red' 'red' 'red' 'red' 'blue' 'red' 'red' 'blue' 'red' 'red' 'red'\n",
      " 'green' 'red' 'green' 'red' 'green' 'green' 'blue' 'red' 'green' 'red'\n",
      " 'red' 'red' 'red' 'blue' 'red' 'red' 'red' 'blue' 'green' 'red' 'red'\n",
      " 'blue']\n",
      "64\n"
     ]
    }
   ],
   "source": [
    "temp_dp = assigning_color_features(100, colors = 3, scaling = 1)\n",
    "print(temp_dp)\n",
    "count = 0\n",
    "for i in range(100):\n",
    "    if temp_dp[i] == 'red':\n",
    "        count += 1\n",
    "print(count)"
   ]
  },
  {
   "cell_type": "code",
   "execution_count": null,
   "metadata": {},
   "outputs": [],
   "source": [
    "def split_feature_skew(\n",
    "    train_features: torch.Tensor,\n",
    "    train_labels: torch.Tensor,\n",
    "    test_features: torch.Tensor,\n",
    "    test_labels: torch.Tensor,\n",
    "    client_number: int = 10,\n",
    "    set_rotation: bool = False,\n",
    "    rotations: int = None,\n",
    "    scaling_rotation: float = 0.1,\n",
    "    set_color: bool = False,\n",
    "    colors: int = None,\n",
    "    scaling_color: float = 0.1,\n",
    "    random_order: bool = True,\n",
    ") -> list:\n",
    "    '''\n",
    "    Splits an overall dataset into a specified number of clusters (clients) with ONLY feature skew.\n",
    "    \n",
    "    Args:\n",
    "        train_features (torch.Tensor): The training dataset features.\n",
    "        train_labels (torch.Tensor): The training dataset labels.\n",
    "        test_features (torch.Tensor): The testing dataset features.\n",
    "        test_labels (torch.Tensor): The testing dataset labels.\n",
    "        client_number (int): The number of clients to split the data into.\n",
    "        set_rotation (bool): Whether to assign rotations to the features.\n",
    "        rotations (int): The number of possible rotations. Recommended to be [2,4].\n",
    "        scaling_rotation (float): The scaling factor for the softmax distribution.\n",
    "        set_color (bool): Whether to assign colors to the features.\n",
    "        colors (int): The number of colors to assign. Must be 2 or 3.\n",
    "        scaling_color (float): The scaling factor for the softmax distribution.\n",
    "        random_order (bool): Whether to shuffle the order of the rotations and colors.\n",
    "\n",
    "    Warning:\n",
    "        random_order should be identical for both training and testing if not DRIFTING.\n",
    "\n",
    "    Returns:\n",
    "        list: A list of dictionaries where each dictionary contains the features and labels for each client.\n",
    "                Both train and test.\n",
    "    '''\n",
    "    # Ensure the features and labels have the same number of samples\n",
    "    assert len(train_features) == len(train_labels), \"The number of samples in features and labels must be the same.\"\n",
    "    assert len(test_features) == len(test_labels), \"The number of samples in features and labels must be the same.\"\n",
    "\n",
    "    # generate basic split\n",
    "    basic_split_data_train = split_basic(train_features, train_labels, client_number)\n",
    "    basic_split_data_test = split_basic(test_features, test_labels, client_number)\n",
    "\n",
    "    # Process train and test splits with rotations if required\n",
    "    if set_rotation:\n",
    "        for client_data_train, client_data_test in zip(basic_split_data_train, basic_split_data_test):\n",
    "\n",
    "            len_train = len(client_data_train['labels'])\n",
    "            len_test = len(client_data_test['labels'])\n",
    "            total_rotations = assigning_rotation_features(\n",
    "                len_train + len_test, rotations, scaling_rotation, random_order\n",
    "                )\n",
    "            # Split the total_rotations list into train and test\n",
    "            train_rotations = total_rotations[:len_train]\n",
    "            test_rotations = total_rotations[len_train:]\n",
    "\n",
    "            client_data_train['features'] = rotate_dataset(client_data_train['features'], train_rotations)\n",
    "            client_data_test['features'] = rotate_dataset(client_data_test['features'], test_rotations)\n",
    "\n",
    "\n",
    "    if set_color:\n",
    "        for client_data_train, client_data_test in zip(basic_split_data_train, basic_split_data_test):\n",
    "\n",
    "            len_train = len(client_data_train['labels'])\n",
    "            len_test = len(client_data_test['labels'])\n",
    "            total_colors = assigning_color_features(\n",
    "                len_train + len_test, colors, scaling_color, random_order\n",
    "                )\n",
    "            # Split the total_colors list into train and test\n",
    "            train_colors = total_colors[:len_train]\n",
    "            test_colors = total_colors[len_train:]\n",
    "\n",
    "            client_data_train['features'] = color_dataset(client_data_train['features'], train_colors)\n",
    "            client_data_test['features'] = color_dataset(client_data_test['features'], test_colors)\n",
    "\n",
    "    rearranged_data = []\n",
    "\n",
    "    # Iterate through the indices of the lists\n",
    "    for i in range(len(basic_split_data_train)):\n",
    "        # Create a new dictionary for each client\n",
    "        client_data = {\n",
    "            'train_features': basic_split_data_train[i]['features'],\n",
    "            'train_labels': basic_split_data_train[i]['labels'],\n",
    "            'test_features': basic_split_data_test[i]['features'],\n",
    "            'test_labels': basic_split_data_test[i]['labels']\n",
    "        }\n",
    "        # Append the new dictionary to the list\n",
    "        rearranged_data.append(client_data)\n",
    "            \n",
    "    return rearranged_data\n",
    "    \n"
   ]
  },
  {
   "cell_type": "code",
   "execution_count": 2,
   "metadata": {},
   "outputs": [
    {
     "name": "stdout",
     "output_type": "stream",
     "text": [
      "[6, 7, 8]\n",
      "[9, 10]\n"
     ]
    }
   ],
   "source": []
  }
 ],
 "metadata": {
  "kernelspec": {
   "display_name": "Python 3",
   "language": "python",
   "name": "python3"
  },
  "language_info": {
   "codemirror_mode": {
    "name": "ipython",
    "version": 3
   },
   "file_extension": ".py",
   "mimetype": "text/x-python",
   "name": "python",
   "nbconvert_exporter": "python",
   "pygments_lexer": "ipython3",
   "version": "3.11.7"
  }
 },
 "nbformat": 4,
 "nbformat_minor": 2
}
